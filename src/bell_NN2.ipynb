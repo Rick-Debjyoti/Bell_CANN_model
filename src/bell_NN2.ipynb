{
 "cells": [
  {
   "cell_type": "code",
   "execution_count": 1,
   "metadata": {},
   "outputs": [],
   "source": [
    "## imports \n",
    "\n",
    "import numpy as np\n",
    "import pandas as pd\n",
    "from scipy.special import lambertw as W1\n",
    "from sklearn.model_selection import train_test_split\n",
    "from sklearn.preprocessing import MinMaxScaler\n",
    "import keras\n",
    "from keras.layers.core import Dense, Dropout\n",
    "from keras.layers import Input , Embedding\n",
    "from keras.models import Model\n",
    "from keras.models import Sequential\n",
    "# import tensorflow as tf\n",
    "# from keras.optimizers.legacy.adam import adam\n",
    "import matplotlib.pyplot as plt\n",
    "import seaborn as sns\n",
    "from keras import callbacks \n",
    "from sklearn.preprocessing import OrdinalEncoder\n",
    "from sklearn.preprocessing import StandardScaler\n",
    "from sklearn.compose import ColumnTransformer\n",
    "from keras.initializers import initializer\n",
    "from keras.optimizers import Nadam\n",
    "import keras.backend as K\n",
    "import tensorflow as tf\n",
    "from tensorflow.keras.losses import Loss\n",
    "import tensorflow_probability as tfp\n",
    "from tensorflow.keras.regularizers import l2\n",
    "# from tensorflow.keras import backend as K"
   ]
  },
  {
   "cell_type": "code",
   "execution_count": 2,
   "metadata": {},
   "outputs": [],
   "source": [
    "## importing pre-processed data \n",
    "\n",
    "learn = pd.read_csv('/Users/debjyoti_mukherjee/Downloads/bell_learn.csv'\n",
    "                    , index_col= 0)\n",
    "test = pd.read_csv('/Users/debjyoti_mukherjee/Downloads/bell_test.csv'\n",
    "                   , index_col = 0)\n",
    "\n",
    "# learn = learn.sample(500)"
   ]
  },
  {
   "cell_type": "code",
   "execution_count": 8,
   "metadata": {},
   "outputs": [
    {
     "data": {
      "text/plain": [
       "((610212, 22), (67801, 22))"
      ]
     },
     "execution_count": 8,
     "metadata": {},
     "output_type": "execute_result"
    }
   ],
   "source": [
    "learn.shape, test.shape"
   ]
  },
  {
   "cell_type": "code",
   "execution_count": 9,
   "metadata": {},
   "outputs": [],
   "source": [
    "data = pd.concat([learn, test], axis=0)"
   ]
  },
  {
   "cell_type": "code",
   "execution_count": 10,
   "metadata": {},
   "outputs": [
    {
     "data": {
      "text/plain": [
       "(0.05572372657312568, 0.05317892134811574)"
      ]
     },
     "execution_count": 10,
     "metadata": {},
     "output_type": "execute_result"
    }
   ],
   "source": [
    "np.mean(data['bellGLM']), np.mean(data['ClaimNb'])"
   ]
  },
  {
   "cell_type": "code",
   "execution_count": 11,
   "metadata": {},
   "outputs": [],
   "source": [
    "## final Bell Deviance:\n",
    "\n",
    "def Bell_Deviance(y_true, y_pred):\n",
    "    eps =0    #1e-8  \n",
    "\n",
    "    y_true = tf.reshape(y_true, (-1,1))\n",
    "    y_pred = tf.reshape(y_pred, (-1,1))\n",
    "\n",
    "    obs_zero = tf.boolean_mask(y_true, tf.equal(y_true, 0))\n",
    "    pred_zero = tf.boolean_mask(y_pred, tf.equal(y_true, 0))\n",
    "\n",
    "    obs_nonzero = tf.boolean_mask(y_true, tf.not_equal(y_true, 0))\n",
    "    pred_nonzero = tf.boolean_mask(y_pred, tf.not_equal(y_true, 0))\n",
    "\n",
    "    loss_zero = 2 * (-1 + tf.exp(tfp.math.lambertw(tf.cast(pred_zero,\n",
    "                                             dtype = tf.float64))))\n",
    "\n",
    "    loss_nonzero = 2 * (\n",
    "    tf.exp(tfp.math.lambertw(tf.cast(pred_nonzero, dtype=tf.float64)))\n",
    "    - tf.exp(tfp.math.lambertw(tf.cast(obs_nonzero, dtype=tf.float64))) +\n",
    "    tf.math.log(\n",
    "        (tfp.math.lambertw(tf.cast(obs_nonzero, dtype=tf.float64))/\n",
    "        (tfp.math.lambertw(tf.cast(pred_nonzero, dtype=tf.float64))+eps))** \n",
    "        tf.cast(obs_nonzero, dtype=tf.float64)\n",
    "    )\n",
    "    )\n",
    "    loss = tf.concat([loss_zero, loss_nonzero], axis=0)\n",
    "\n",
    "    mean_loss = tf.reduce_mean(loss)\n",
    "\n",
    "    return mean_loss\n"
   ]
  },
  {
   "cell_type": "code",
   "execution_count": 12,
   "metadata": {},
   "outputs": [
    {
     "name": "stderr",
     "output_type": "stream",
     "text": [
      "2023-09-10 21:47:57.170504: I tensorflow/core/common_runtime/pluggable_device/pluggable_device_factory.cc:305] Could not identify NUMA node of platform GPU ID 0, defaulting to 0. Your kernel may not have been built with NUMA support.\n",
      "2023-09-10 21:47:57.171870: I tensorflow/core/common_runtime/pluggable_device/pluggable_device_factory.cc:271] Created TensorFlow device (/job:localhost/replica:0/task:0/device:GPU:0 with 0 MB memory) -> physical PluggableDevice (device: 0, name: METAL, pci bus id: <undefined>)\n"
     ]
    },
    {
     "name": "stdout",
     "output_type": "stream",
     "text": [
      "Metal device set to: Apple M1\n",
      "\n",
      "systemMemory: 8.00 GB\n",
      "maxCacheSize: 2.67 GB\n",
      "\n"
     ]
    },
    {
     "data": {
      "text/plain": [
       "<tf.Tensor: shape=(), dtype=float64, numpy=0.28819543059850866>"
      ]
     },
     "execution_count": 12,
     "metadata": {},
     "output_type": "execute_result"
    }
   ],
   "source": [
    "Bell_Deviance(learn['ClaimNb'],learn['bellGLM'])"
   ]
  },
  {
   "cell_type": "code",
   "execution_count": 13,
   "metadata": {},
   "outputs": [
    {
     "data": {
      "text/plain": [
       "<tf.Tensor: shape=(), dtype=float64, numpy=0.28359761726147104>"
      ]
     },
     "execution_count": 13,
     "metadata": {},
     "output_type": "execute_result"
    }
   ],
   "source": [
    "Bell_Deviance(test['ClaimNb'],test['bellGLM'])"
   ]
  },
  {
   "cell_type": "code",
   "execution_count": 14,
   "metadata": {},
   "outputs": [],
   "source": [
    "q0 = 7\n",
    "Xdata = data[['AreaX','VehPowerX','VehAgeX','DrivAgeX','BonusMalusX'\n",
    "              ,'VehGasX','DensityX']]\n",
    "Xlearn  = learn[['AreaX','VehPowerX','VehAgeX','DrivAgeX','BonusMalusX'\n",
    "                 ,'VehGasX','DensityX']]\n",
    "Xtest  = test[['AreaX','VehPowerX','VehAgeX','DrivAgeX','BonusMalusX'\n",
    "               ,'VehGasX','DensityX']]"
   ]
  },
  {
   "cell_type": "code",
   "execution_count": 15,
   "metadata": {},
   "outputs": [
    {
     "data": {
      "text/plain": [
       "0.9578401201961692"
      ]
     },
     "execution_count": 15,
     "metadata": {},
     "output_type": "execute_result"
    }
   ],
   "source": [
    "## Choosing the right volume for EmbNN and CANN model:\n",
    "Vlearn = np.log(learn['Exposure'])\n",
    "Vtest = np.log(test['Exposure'])\n",
    "lambda_hom = sum(learn['ClaimNb']/sum(learn['Exposure']))\n",
    "\n",
    "CANN = 1        ## 0 =  EmbNN, 1 = CANN \n",
    "\n",
    "if (CANN == 1):\n",
    "    Vlearn = np.log(learn['bellGLM'])\n",
    "    Vtest = np.log(test['bellGLM'])\n",
    "    lambda_hom = sum(learn['ClaimNb']/sum(learn['bellGLM']))\n",
    "\n",
    "lambda_hom\n"
   ]
  },
  {
   "cell_type": "code",
   "execution_count": 16,
   "metadata": {},
   "outputs": [],
   "source": [
    "## Hyperparameter setup:\n",
    "\n",
    "Brlabel = len(learn['VehBrandX'].unique())\n",
    "Relabel = len(learn['RegionX'].unique())\n",
    "q1 = 100\n",
    "q2 = 75\n",
    "q3 = 50\n",
    "d = 2   ## Vary 1 or 2 \n",
    "p = 0"
   ]
  },
  {
   "cell_type": "code",
   "execution_count": 17,
   "metadata": {},
   "outputs": [
    {
     "name": "stdout",
     "output_type": "stream",
     "text": [
      "Model: \"model\"\n",
      "__________________________________________________________________________________________________\n",
      " Layer (type)                   Output Shape         Param #     Connected to                     \n",
      "==================================================================================================\n",
      " input_1 (InputLayer)           [(None, 1)]          0           []                               \n",
      "                                                                                                  \n",
      " input_2 (InputLayer)           [(None, 1)]          0           []                               \n",
      "                                                                                                  \n",
      " BrandEmb (Embedding)           (None, 1, 2)         22          ['input_1[0][0]']                \n",
      "                                                                                                  \n",
      " RegionEmb (Embedding)          (None, 1, 2)         44          ['input_2[0][0]']                \n",
      "                                                                                                  \n",
      " design (InputLayer)            [(None, 7)]          0           []                               \n",
      "                                                                                                  \n",
      " Brand_Flat (Flatten)           (None, 2)            0           ['BrandEmb[0][0]']               \n",
      "                                                                                                  \n",
      " Region_Flat (Flatten)          (None, 2)            0           ['RegionEmb[0][0]']              \n",
      "                                                                                                  \n",
      " concatenate (Concatenate)      (None, 11)           0           ['design[0][0]',                 \n",
      "                                                                  'Brand_Flat[0][0]',             \n",
      "                                                                  'Region_Flat[0][0]']            \n",
      "                                                                                                  \n",
      " dense (Dense)                  (None, 100)          1200        ['concatenate[0][0]']            \n",
      "                                                                                                  \n",
      " dense_1 (Dense)                (None, 75)           7575        ['dense[0][0]']                  \n",
      "                                                                                                  \n",
      " dense_2 (Dense)                (None, 50)           3800        ['dense_1[0][0]']                \n",
      "                                                                                                  \n",
      " dense_3 (Dense)                (None, 1)            51          ['dense_2[0][0]']                \n",
      "                                                                                                  \n",
      " LogVol (InputLayer)            [(None, 1)]          0           []                               \n",
      "                                                                                                  \n",
      " add (Add)                      (None, 1)            0           ['dense_3[0][0]',                \n",
      "                                                                  'LogVol[0][0]']                 \n",
      "                                                                                                  \n",
      " dense_4 (Dense)                (None, 1)            2           ['add[0][0]']                    \n",
      "                                                                                                  \n",
      "==================================================================================================\n",
      "Total params: 12,694\n",
      "Trainable params: 12,692\n",
      "Non-trainable params: 2\n",
      "__________________________________________________________________________________________________\n"
     ]
    }
   ],
   "source": [
    "## Embedding layer for categorical variables \n",
    "# the network architechture:\n",
    "\n",
    "Design =  keras.layers.Input(shape=(q0,), name= 'design')\n",
    "VehBrand = keras.layers.Input(shape= (1,))\n",
    "Region = keras.layers.Input(shape= (1,))\n",
    "LogVol = keras.layers.Input(shape= (1,), name='LogVol')\n",
    "#\n",
    "BrandEmb = keras.layers.Embedding(input_dim= Brlabel , \n",
    "        output_dim= d, input_length = 1, name = 'BrandEmb')(VehBrand)\n",
    "Brand_Flat = keras.layers.Flatten(name = 'Brand_Flat')(BrandEmb)\n",
    "RegionEmb = keras.layers.Embedding(input_dim= Relabel , output_dim= d, \n",
    "                        input_length = 1, name = 'RegionEmb')(Region)\n",
    "Region_flat = keras.layers.Flatten(name = 'Region_Flat')(RegionEmb)\n",
    "#\n",
    "concate = keras.layers.Concatenate()([Design, Brand_Flat, Region_flat])\n",
    "hidden1 = keras.layers.Dense(q1, activation='tanh')(concate)\n",
    "hidden2 = keras.layers.Dense(q2, activation = 'tanh')(hidden1)\n",
    "hidden3 = keras.layers.Dense(q3, activation = 'tanh')(hidden2)\n",
    "Network = keras.layers.Dense(1, activation ='linear', use_bias=True, \n",
    "        weights= [np.zeros((q3,1)),  np.array((lambda_hom,))])(hidden3) \n",
    "\n",
    "Add= keras.layers.Add()([Network,LogVol])\n",
    "Response = keras.layers.Dense(1, activation = keras.activations\n",
    "                .exponential, dtype= \"float64\",trainable= False, \n",
    "            weights= [np.ones((1,1)), np.zeros(1,)])(Add)\n",
    "model = keras.Model(inputs = [Design, VehBrand, Region, LogVol]\n",
    "                    , outputs = Response)\n",
    "model.compile(optimizer=keras.optimizers.Nadam(0.001)\n",
    "              , loss = Bell_Deviance)\n",
    "\n",
    "model.summary()"
   ]
  },
  {
   "cell_type": "code",
   "execution_count": 18,
   "metadata": {},
   "outputs": [
    {
     "name": "stdout",
     "output_type": "stream",
     "text": [
      "Epoch 1/1000\n"
     ]
    },
    {
     "name": "stderr",
     "output_type": "stream",
     "text": [
      "2023-09-10 21:48:12.998700: W tensorflow/core/platform/profile_utils/cpu_utils.cc:128] Failed to get CPU frequency: 0 Hz\n",
      "2023-09-10 21:48:14.803748: I tensorflow/core/grappler/optimizers/custom_graph_optimizer_registry.cc:113] Plugin optimizer for device_type GPU is enabled.\n",
      "2023-09-10 21:48:17.469182: I tensorflow/core/grappler/optimizers/custom_graph_optimizer_registry.cc:113] Plugin optimizer for device_type GPU is enabled.\n"
     ]
    },
    {
     "name": "stdout",
     "output_type": "stream",
     "text": [
      "5/5 - 5s - loss: 0.3502 - val_loss: 0.3473 - 5s/epoch - 960ms/step\n",
      "Epoch 2/1000\n",
      "5/5 - 1s - loss: 0.3379 - val_loss: 0.3272 - 1s/epoch - 234ms/step\n",
      "Epoch 3/1000\n",
      "5/5 - 1s - loss: 0.3146 - val_loss: 0.3035 - 1s/epoch - 222ms/step\n",
      "Epoch 4/1000\n",
      "5/5 - 1s - loss: 0.2945 - val_loss: 0.2916 - 1s/epoch - 218ms/step\n",
      "Epoch 5/1000\n",
      "5/5 - 1s - loss: 0.2864 - val_loss: 0.2891 - 1s/epoch - 225ms/step\n",
      "Epoch 6/1000\n",
      "5/5 - 1s - loss: 0.2850 - val_loss: 0.2891 - 1s/epoch - 213ms/step\n",
      "Epoch 7/1000\n",
      "5/5 - 1s - loss: 0.2849 - val_loss: 0.2891 - 1s/epoch - 215ms/step\n",
      "Epoch 8/1000\n",
      "5/5 - 1s - loss: 0.2848 - val_loss: 0.2889 - 1s/epoch - 218ms/step\n",
      "Epoch 9/1000\n",
      "5/5 - 1s - loss: 0.2846 - val_loss: 0.2887 - 1s/epoch - 229ms/step\n",
      "Epoch 10/1000\n",
      "5/5 - 1s - loss: 0.2844 - val_loss: 0.2886 - 1s/epoch - 213ms/step\n",
      "Epoch 11/1000\n",
      "5/5 - 1s - loss: 0.2843 - val_loss: 0.2885 - 1s/epoch - 225ms/step\n",
      "Epoch 12/1000\n",
      "5/5 - 1s - loss: 0.2842 - val_loss: 0.2884 - 1s/epoch - 217ms/step\n",
      "Epoch 13/1000\n",
      "5/5 - 1s - loss: 0.2842 - val_loss: 0.2883 - 1s/epoch - 223ms/step\n",
      "Epoch 14/1000\n",
      "5/5 - 1s - loss: 0.2841 - val_loss: 0.2882 - 1s/epoch - 227ms/step\n",
      "Epoch 15/1000\n",
      "5/5 - 1s - loss: 0.2840 - val_loss: 0.2882 - 1s/epoch - 217ms/step\n",
      "Epoch 16/1000\n",
      "5/5 - 1s - loss: 0.2839 - val_loss: 0.2881 - 1s/epoch - 224ms/step\n",
      "Epoch 17/1000\n",
      "5/5 - 1s - loss: 0.2839 - val_loss: 0.2880 - 1s/epoch - 226ms/step\n",
      "Epoch 18/1000\n",
      "5/5 - 1s - loss: 0.2838 - val_loss: 0.2879 - 1s/epoch - 231ms/step\n",
      "Epoch 19/1000\n",
      "5/5 - 1s - loss: 0.2837 - val_loss: 0.2878 - 1s/epoch - 237ms/step\n",
      "Epoch 20/1000\n",
      "5/5 - 1s - loss: 0.2836 - val_loss: 0.2877 - 1s/epoch - 220ms/step\n",
      "Epoch 21/1000\n",
      "5/5 - 1s - loss: 0.2835 - val_loss: 0.2875 - 1s/epoch - 299ms/step\n",
      "Epoch 22/1000\n",
      "5/5 - 1s - loss: 0.2834 - val_loss: 0.2874 - 1s/epoch - 270ms/step\n",
      "Epoch 23/1000\n",
      "5/5 - 1s - loss: 0.2833 - val_loss: 0.2873 - 1s/epoch - 234ms/step\n",
      "Epoch 24/1000\n",
      "5/5 - 1s - loss: 0.2832 - val_loss: 0.2871 - 1s/epoch - 224ms/step\n",
      "Epoch 25/1000\n",
      "5/5 - 1s - loss: 0.2831 - val_loss: 0.2870 - 1s/epoch - 214ms/step\n",
      "Epoch 26/1000\n",
      "5/5 - 1s - loss: 0.2830 - val_loss: 0.2869 - 1s/epoch - 213ms/step\n",
      "Epoch 27/1000\n",
      "5/5 - 1s - loss: 0.2828 - val_loss: 0.2867 - 1s/epoch - 225ms/step\n",
      "Epoch 28/1000\n",
      "5/5 - 1s - loss: 0.2827 - val_loss: 0.2867 - 1s/epoch - 218ms/step\n",
      "Epoch 29/1000\n",
      "5/5 - 1s - loss: 0.2826 - val_loss: 0.2865 - 1s/epoch - 217ms/step\n",
      "Epoch 30/1000\n",
      "5/5 - 1s - loss: 0.2825 - val_loss: 0.2864 - 1s/epoch - 215ms/step\n",
      "Epoch 31/1000\n",
      "5/5 - 1s - loss: 0.2824 - val_loss: 0.2864 - 1s/epoch - 220ms/step\n",
      "Epoch 32/1000\n",
      "5/5 - 1s - loss: 0.2824 - val_loss: 0.2863 - 1s/epoch - 216ms/step\n",
      "Epoch 33/1000\n",
      "5/5 - 1s - loss: 0.2823 - val_loss: 0.2862 - 1s/epoch - 215ms/step\n",
      "Epoch 34/1000\n",
      "5/5 - 1s - loss: 0.2823 - val_loss: 0.2862 - 1s/epoch - 219ms/step\n",
      "Epoch 35/1000\n",
      "5/5 - 1s - loss: 0.2822 - val_loss: 0.2861 - 1s/epoch - 219ms/step\n",
      "Epoch 36/1000\n",
      "5/5 - 1s - loss: 0.2821 - val_loss: 0.2861 - 1s/epoch - 222ms/step\n",
      "Epoch 37/1000\n",
      "5/5 - 1s - loss: 0.2821 - val_loss: 0.2860 - 1s/epoch - 221ms/step\n",
      "Epoch 38/1000\n",
      "5/5 - 1s - loss: 0.2820 - val_loss: 0.2860 - 1s/epoch - 221ms/step\n",
      "Epoch 39/1000\n",
      "5/5 - 1s - loss: 0.2820 - val_loss: 0.2859 - 1s/epoch - 219ms/step\n",
      "Epoch 40/1000\n",
      "5/5 - 1s - loss: 0.2819 - val_loss: 0.2859 - 1s/epoch - 217ms/step\n",
      "Epoch 41/1000\n",
      "5/5 - 1s - loss: 0.2819 - val_loss: 0.2858 - 1s/epoch - 219ms/step\n",
      "Epoch 42/1000\n",
      "5/5 - 1s - loss: 0.2818 - val_loss: 0.2858 - 1s/epoch - 219ms/step\n",
      "Epoch 43/1000\n",
      "5/5 - 1s - loss: 0.2817 - val_loss: 0.2857 - 1s/epoch - 229ms/step\n",
      "Epoch 44/1000\n",
      "5/5 - 1s - loss: 0.2817 - val_loss: 0.2857 - 1s/epoch - 223ms/step\n",
      "Epoch 45/1000\n",
      "5/5 - 1s - loss: 0.2816 - val_loss: 0.2856 - 1s/epoch - 213ms/step\n",
      "Epoch 46/1000\n",
      "5/5 - 1s - loss: 0.2815 - val_loss: 0.2856 - 1s/epoch - 220ms/step\n",
      "Epoch 47/1000\n",
      "5/5 - 1s - loss: 0.2815 - val_loss: 0.2855 - 1s/epoch - 218ms/step\n",
      "Epoch 48/1000\n",
      "5/5 - 1s - loss: 0.2814 - val_loss: 0.2854 - 1s/epoch - 223ms/step\n",
      "Epoch 49/1000\n",
      "5/5 - 1s - loss: 0.2814 - val_loss: 0.2854 - 1s/epoch - 217ms/step\n",
      "Epoch 50/1000\n",
      "5/5 - 1s - loss: 0.2813 - val_loss: 0.2853 - 1s/epoch - 225ms/step\n",
      "Epoch 51/1000\n",
      "5/5 - 1s - loss: 0.2812 - val_loss: 0.2853 - 1s/epoch - 222ms/step\n",
      "Epoch 52/1000\n",
      "5/5 - 1s - loss: 0.2811 - val_loss: 0.2852 - 1s/epoch - 213ms/step\n",
      "Epoch 53/1000\n",
      "5/5 - 1s - loss: 0.2810 - val_loss: 0.2851 - 1s/epoch - 213ms/step\n",
      "Epoch 54/1000\n",
      "5/5 - 1s - loss: 0.2809 - val_loss: 0.2850 - 1s/epoch - 223ms/step\n",
      "Epoch 55/1000\n",
      "5/5 - 1s - loss: 0.2809 - val_loss: 0.2850 - 1s/epoch - 216ms/step\n",
      "Epoch 56/1000\n",
      "5/5 - 1s - loss: 0.2808 - val_loss: 0.2850 - 1s/epoch - 219ms/step\n",
      "Epoch 57/1000\n",
      "5/5 - 1s - loss: 0.2808 - val_loss: 0.2849 - 1s/epoch - 217ms/step\n",
      "Epoch 58/1000\n",
      "5/5 - 1s - loss: 0.2807 - val_loss: 0.2848 - 1s/epoch - 213ms/step\n",
      "Epoch 59/1000\n",
      "5/5 - 1s - loss: 0.2806 - val_loss: 0.2848 - 1s/epoch - 220ms/step\n",
      "Epoch 60/1000\n",
      "5/5 - 1s - loss: 0.2805 - val_loss: 0.2847 - 1s/epoch - 219ms/step\n",
      "Epoch 61/1000\n",
      "5/5 - 1s - loss: 0.2804 - val_loss: 0.2845 - 1s/epoch - 214ms/step\n",
      "Epoch 62/1000\n",
      "5/5 - 1s - loss: 0.2804 - val_loss: 0.2846 - 1s/epoch - 216ms/step\n",
      "Epoch 63/1000\n",
      "5/5 - 1s - loss: 0.2803 - val_loss: 0.2845 - 1s/epoch - 214ms/step\n",
      "Epoch 64/1000\n",
      "5/5 - 1s - loss: 0.2805 - val_loss: 0.2845 - 1s/epoch - 222ms/step\n",
      "Epoch 65/1000\n",
      "5/5 - 1s - loss: 0.2802 - val_loss: 0.2845 - 1s/epoch - 215ms/step\n",
      "Epoch 66/1000\n",
      "5/5 - 1s - loss: 0.2801 - val_loss: 0.2843 - 1s/epoch - 221ms/step\n",
      "Epoch 67/1000\n",
      "5/5 - 1s - loss: 0.2800 - val_loss: 0.2842 - 1s/epoch - 213ms/step\n",
      "Epoch 68/1000\n",
      "5/5 - 1s - loss: 0.2799 - val_loss: 0.2842 - 1s/epoch - 220ms/step\n",
      "Epoch 69/1000\n",
      "5/5 - 1s - loss: 0.2799 - val_loss: 0.2842 - 1s/epoch - 216ms/step\n",
      "Epoch 70/1000\n",
      "5/5 - 1s - loss: 0.2798 - val_loss: 0.2841 - 1s/epoch - 216ms/step\n",
      "Epoch 71/1000\n",
      "5/5 - 1s - loss: 0.2799 - val_loss: 0.2842 - 1s/epoch - 221ms/step\n",
      "Epoch 72/1000\n",
      "5/5 - 1s - loss: 0.2798 - val_loss: 0.2840 - 1s/epoch - 212ms/step\n",
      "Epoch 73/1000\n",
      "5/5 - 1s - loss: 0.2797 - val_loss: 0.2839 - 1s/epoch - 221ms/step\n",
      "Epoch 74/1000\n",
      "5/5 - 1s - loss: 0.2796 - val_loss: 0.2839 - 1s/epoch - 221ms/step\n",
      "Epoch 75/1000\n",
      "5/5 - 1s - loss: 0.2796 - val_loss: 0.2840 - 1s/epoch - 207ms/step\n",
      "Epoch 76/1000\n",
      "5/5 - 1s - loss: 0.2796 - val_loss: 0.2838 - 1s/epoch - 220ms/step\n",
      "Epoch 77/1000\n",
      "5/5 - 1s - loss: 0.2794 - val_loss: 0.2837 - 1s/epoch - 215ms/step\n",
      "Epoch 78/1000\n",
      "5/5 - 1s - loss: 0.2795 - val_loss: 0.2837 - 1s/epoch - 217ms/step\n",
      "Epoch 79/1000\n",
      "5/5 - 1s - loss: 0.2794 - val_loss: 0.2836 - 1s/epoch - 224ms/step\n",
      "Epoch 80/1000\n",
      "5/5 - 1s - loss: 0.2797 - val_loss: 0.2839 - 1s/epoch - 219ms/step\n",
      "Epoch 81/1000\n",
      "5/5 - 1s - loss: 0.2796 - val_loss: 0.2836 - 1s/epoch - 223ms/step\n",
      "Epoch 82/1000\n",
      "5/5 - 1s - loss: 0.2792 - val_loss: 0.2835 - 1s/epoch - 220ms/step\n",
      "Epoch 83/1000\n",
      "5/5 - 1s - loss: 0.2793 - val_loss: 0.2835 - 1s/epoch - 214ms/step\n",
      "Epoch 84/1000\n",
      "5/5 - 1s - loss: 0.2791 - val_loss: 0.2834 - 1s/epoch - 212ms/step\n",
      "Epoch 85/1000\n",
      "5/5 - 1s - loss: 0.2791 - val_loss: 0.2833 - 1s/epoch - 214ms/step\n",
      "Epoch 86/1000\n",
      "5/5 - 1s - loss: 0.2790 - val_loss: 0.2833 - 1s/epoch - 221ms/step\n",
      "Epoch 87/1000\n",
      "5/5 - 1s - loss: 0.2790 - val_loss: 0.2832 - 1s/epoch - 213ms/step\n",
      "Epoch 88/1000\n",
      "5/5 - 1s - loss: 0.2789 - val_loss: 0.2834 - 1s/epoch - 215ms/step\n",
      "Epoch 89/1000\n",
      "5/5 - 1s - loss: 0.2790 - val_loss: 0.2833 - 1s/epoch - 218ms/step\n",
      "Epoch 90/1000\n",
      "5/5 - 1s - loss: 0.2789 - val_loss: 0.2831 - 1s/epoch - 216ms/step\n",
      "Epoch 91/1000\n",
      "5/5 - 1s - loss: 0.2790 - val_loss: 0.2832 - 1s/epoch - 219ms/step\n",
      "Epoch 92/1000\n",
      "5/5 - 1s - loss: 0.2788 - val_loss: 0.2830 - 1s/epoch - 219ms/step\n",
      "Epoch 93/1000\n",
      "5/5 - 1s - loss: 0.2787 - val_loss: 0.2834 - 1s/epoch - 217ms/step\n",
      "Epoch 94/1000\n",
      "5/5 - 1s - loss: 0.2787 - val_loss: 0.2829 - 1s/epoch - 217ms/step\n",
      "Epoch 95/1000\n",
      "5/5 - 1s - loss: 0.2786 - val_loss: 0.2829 - 1s/epoch - 222ms/step\n",
      "Epoch 96/1000\n",
      "5/5 - 1s - loss: 0.2786 - val_loss: 0.2828 - 1s/epoch - 222ms/step\n",
      "Epoch 97/1000\n",
      "5/5 - 1s - loss: 0.2785 - val_loss: 0.2828 - 1s/epoch - 224ms/step\n",
      "Epoch 98/1000\n",
      "5/5 - 1s - loss: 0.2785 - val_loss: 0.2827 - 1s/epoch - 218ms/step\n",
      "Epoch 99/1000\n",
      "5/5 - 1s - loss: 0.2784 - val_loss: 0.2831 - 1s/epoch - 214ms/step\n",
      "Epoch 100/1000\n",
      "5/5 - 1s - loss: 0.2783 - val_loss: 0.2826 - 1s/epoch - 220ms/step\n",
      "Epoch 101/1000\n",
      "5/5 - 1s - loss: 0.2783 - val_loss: 0.2826 - 1s/epoch - 214ms/step\n",
      "Epoch 102/1000\n",
      "5/5 - 1s - loss: 0.2785 - val_loss: 0.2831 - 1s/epoch - 226ms/step\n",
      "Epoch 103/1000\n",
      "5/5 - 1s - loss: 0.2783 - val_loss: 0.2825 - 1s/epoch - 220ms/step\n",
      "Epoch 104/1000\n",
      "5/5 - 1s - loss: 0.2781 - val_loss: 0.2825 - 1s/epoch - 211ms/step\n",
      "Epoch 105/1000\n",
      "5/5 - 1s - loss: 0.2781 - val_loss: 0.2826 - 1s/epoch - 224ms/step\n",
      "Epoch 106/1000\n",
      "5/5 - 1s - loss: 0.2780 - val_loss: 0.2823 - 1s/epoch - 216ms/step\n",
      "Epoch 107/1000\n",
      "5/5 - 1s - loss: 0.2781 - val_loss: 0.2824 - 1s/epoch - 214ms/step\n",
      "Epoch 108/1000\n",
      "5/5 - 1s - loss: 0.2781 - val_loss: 0.2822 - 1s/epoch - 209ms/step\n",
      "Epoch 109/1000\n",
      "5/5 - 1s - loss: 0.2778 - val_loss: 0.2821 - 1s/epoch - 226ms/step\n",
      "Epoch 110/1000\n",
      "5/5 - 1s - loss: 0.2778 - val_loss: 0.2821 - 1s/epoch - 219ms/step\n",
      "Epoch 111/1000\n",
      "5/5 - 1s - loss: 0.2779 - val_loss: 0.2821 - 1s/epoch - 212ms/step\n",
      "Epoch 112/1000\n",
      "5/5 - 1s - loss: 0.2776 - val_loss: 0.2820 - 1s/epoch - 214ms/step\n",
      "Epoch 113/1000\n",
      "5/5 - 1s - loss: 0.2776 - val_loss: 0.2821 - 1s/epoch - 219ms/step\n",
      "Epoch 114/1000\n",
      "5/5 - 1s - loss: 0.2776 - val_loss: 0.2820 - 1s/epoch - 225ms/step\n",
      "Epoch 115/1000\n",
      "5/5 - 1s - loss: 0.2776 - val_loss: 0.2820 - 1s/epoch - 241ms/step\n",
      "Epoch 116/1000\n",
      "5/5 - 1s - loss: 0.2774 - val_loss: 0.2818 - 1s/epoch - 276ms/step\n",
      "Epoch 117/1000\n",
      "5/5 - 1s - loss: 0.2775 - val_loss: 0.2824 - 1s/epoch - 267ms/step\n",
      "Epoch 118/1000\n",
      "5/5 - 1s - loss: 0.2773 - val_loss: 0.2816 - 1s/epoch - 234ms/step\n",
      "Epoch 119/1000\n",
      "5/5 - 1s - loss: 0.2774 - val_loss: 0.2823 - 1s/epoch - 234ms/step\n",
      "Epoch 120/1000\n",
      "5/5 - 1s - loss: 0.2773 - val_loss: 0.2815 - 1s/epoch - 228ms/step\n",
      "Epoch 121/1000\n",
      "5/5 - 1s - loss: 0.2773 - val_loss: 0.2820 - 1s/epoch - 219ms/step\n",
      "Epoch 122/1000\n",
      "5/5 - 1s - loss: 0.2773 - val_loss: 0.2814 - 1s/epoch - 296ms/step\n",
      "Epoch 123/1000\n",
      "5/5 - 2s - loss: 0.2771 - val_loss: 0.2820 - 2s/epoch - 340ms/step\n",
      "Epoch 124/1000\n",
      "5/5 - 1s - loss: 0.2770 - val_loss: 0.2813 - 1s/epoch - 245ms/step\n",
      "Epoch 125/1000\n",
      "5/5 - 1s - loss: 0.2769 - val_loss: 0.2812 - 1s/epoch - 229ms/step\n",
      "Epoch 126/1000\n",
      "5/5 - 1s - loss: 0.2770 - val_loss: 0.2816 - 1s/epoch - 272ms/step\n",
      "Epoch 127/1000\n",
      "5/5 - 1s - loss: 0.2773 - val_loss: 0.2813 - 1s/epoch - 267ms/step\n",
      "Epoch 128/1000\n",
      "5/5 - 1s - loss: 0.2767 - val_loss: 0.2809 - 1s/epoch - 224ms/step\n",
      "Epoch 129/1000\n",
      "5/5 - 1s - loss: 0.2765 - val_loss: 0.2809 - 1s/epoch - 228ms/step\n",
      "Epoch 130/1000\n",
      "5/5 - 1s - loss: 0.2766 - val_loss: 0.2808 - 1s/epoch - 237ms/step\n",
      "Epoch 131/1000\n",
      "5/5 - 1s - loss: 0.2765 - val_loss: 0.2807 - 1s/epoch - 250ms/step\n",
      "Epoch 132/1000\n",
      "5/5 - 1s - loss: 0.2764 - val_loss: 0.2807 - 1s/epoch - 255ms/step\n",
      "Epoch 133/1000\n",
      "5/5 - 1s - loss: 0.2766 - val_loss: 0.2814 - 1s/epoch - 219ms/step\n",
      "Epoch 134/1000\n",
      "5/5 - 1s - loss: 0.2771 - val_loss: 0.2809 - 1s/epoch - 225ms/step\n",
      "Epoch 135/1000\n",
      "5/5 - 1s - loss: 0.2764 - val_loss: 0.2806 - 1s/epoch - 230ms/step\n",
      "Epoch 136/1000\n",
      "5/5 - 1s - loss: 0.2761 - val_loss: 0.2804 - 1s/epoch - 290ms/step\n",
      "Epoch 137/1000\n",
      "5/5 - 1s - loss: 0.2762 - val_loss: 0.2803 - 1s/epoch - 234ms/step\n",
      "Epoch 138/1000\n",
      "5/5 - 1s - loss: 0.2760 - val_loss: 0.2804 - 1s/epoch - 265ms/step\n",
      "Epoch 139/1000\n",
      "5/5 - 1s - loss: 0.2759 - val_loss: 0.2802 - 1s/epoch - 236ms/step\n",
      "Epoch 140/1000\n",
      "5/5 - 1s - loss: 0.2759 - val_loss: 0.2802 - 1s/epoch - 221ms/step\n",
      "Epoch 141/1000\n",
      "5/5 - 1s - loss: 0.2759 - val_loss: 0.2801 - 1s/epoch - 219ms/step\n",
      "Epoch 142/1000\n",
      "5/5 - 1s - loss: 0.2758 - val_loss: 0.2805 - 1s/epoch - 225ms/step\n",
      "Epoch 143/1000\n",
      "5/5 - 1s - loss: 0.2762 - val_loss: 0.2801 - 1s/epoch - 240ms/step\n",
      "Epoch 144/1000\n",
      "5/5 - 1s - loss: 0.2757 - val_loss: 0.2798 - 1s/epoch - 290ms/step\n",
      "Epoch 145/1000\n",
      "5/5 - 2s - loss: 0.2756 - val_loss: 0.2801 - 2s/epoch - 315ms/step\n",
      "Epoch 146/1000\n",
      "5/5 - 1s - loss: 0.2759 - val_loss: 0.2813 - 1s/epoch - 281ms/step\n",
      "Epoch 147/1000\n",
      "5/5 - 1s - loss: 0.2762 - val_loss: 0.2798 - 1s/epoch - 259ms/step\n",
      "Epoch 148/1000\n",
      "5/5 - 1s - loss: 0.2756 - val_loss: 0.2799 - 1s/epoch - 234ms/step\n",
      "Epoch 149/1000\n",
      "5/5 - 1s - loss: 0.2754 - val_loss: 0.2796 - 1s/epoch - 244ms/step\n",
      "Epoch 150/1000\n",
      "5/5 - 1s - loss: 0.2753 - val_loss: 0.2797 - 1s/epoch - 282ms/step\n",
      "Epoch 151/1000\n",
      "5/5 - 1s - loss: 0.2753 - val_loss: 0.2797 - 1s/epoch - 263ms/step\n",
      "Epoch 152/1000\n",
      "5/5 - 1s - loss: 0.2753 - val_loss: 0.2794 - 1s/epoch - 248ms/step\n",
      "Epoch 153/1000\n",
      "5/5 - 1s - loss: 0.2752 - val_loss: 0.2797 - 1s/epoch - 246ms/step\n",
      "Epoch 154/1000\n",
      "5/5 - 1s - loss: 0.2752 - val_loss: 0.2794 - 1s/epoch - 253ms/step\n",
      "Epoch 155/1000\n",
      "5/5 - 1s - loss: 0.2751 - val_loss: 0.2793 - 1s/epoch - 212ms/step\n",
      "Epoch 156/1000\n",
      "5/5 - 1s - loss: 0.2750 - val_loss: 0.2794 - 1s/epoch - 211ms/step\n",
      "Epoch 157/1000\n",
      "5/5 - 1s - loss: 0.2750 - val_loss: 0.2792 - 1s/epoch - 215ms/step\n",
      "Epoch 158/1000\n",
      "5/5 - 1s - loss: 0.2749 - val_loss: 0.2792 - 1s/epoch - 220ms/step\n",
      "Epoch 159/1000\n",
      "5/5 - 1s - loss: 0.2751 - val_loss: 0.2797 - 1s/epoch - 220ms/step\n",
      "Epoch 160/1000\n",
      "5/5 - 1s - loss: 0.2752 - val_loss: 0.2793 - 1s/epoch - 228ms/step\n",
      "Epoch 161/1000\n",
      "5/5 - 1s - loss: 0.2749 - val_loss: 0.2791 - 1s/epoch - 296ms/step\n",
      "Epoch 162/1000\n",
      "5/5 - 2s - loss: 0.2747 - val_loss: 0.2789 - 2s/epoch - 309ms/step\n",
      "Epoch 163/1000\n",
      "5/5 - 1s - loss: 0.2746 - val_loss: 0.2794 - 1s/epoch - 232ms/step\n",
      "Epoch 164/1000\n",
      "5/5 - 1s - loss: 0.2746 - val_loss: 0.2789 - 1s/epoch - 220ms/step\n",
      "Epoch 165/1000\n",
      "5/5 - 1s - loss: 0.2746 - val_loss: 0.2790 - 1s/epoch - 223ms/step\n",
      "Epoch 166/1000\n",
      "5/5 - 1s - loss: 0.2747 - val_loss: 0.2790 - 1s/epoch - 237ms/step\n",
      "Epoch 167/1000\n",
      "5/5 - 1s - loss: 0.2750 - val_loss: 0.2798 - 1s/epoch - 268ms/step\n",
      "Epoch 168/1000\n",
      "5/5 - 1s - loss: 0.2747 - val_loss: 0.2787 - 1s/epoch - 271ms/step\n",
      "Epoch 169/1000\n",
      "5/5 - 1s - loss: 0.2747 - val_loss: 0.2791 - 1s/epoch - 297ms/step\n",
      "Epoch 170/1000\n",
      "5/5 - 1s - loss: 0.2748 - val_loss: 0.2791 - 1s/epoch - 227ms/step\n",
      "Epoch 171/1000\n",
      "5/5 - 1s - loss: 0.2747 - val_loss: 0.2789 - 1s/epoch - 220ms/step\n",
      "Epoch 172/1000\n",
      "5/5 - 1s - loss: 0.2744 - val_loss: 0.2785 - 1s/epoch - 222ms/step\n",
      "Epoch 173/1000\n",
      "5/5 - 1s - loss: 0.2742 - val_loss: 0.2785 - 1s/epoch - 240ms/step\n",
      "Epoch 174/1000\n",
      "5/5 - 1s - loss: 0.2742 - val_loss: 0.2784 - 1s/epoch - 218ms/step\n",
      "Epoch 175/1000\n",
      "5/5 - 1s - loss: 0.2742 - val_loss: 0.2784 - 1s/epoch - 212ms/step\n",
      "Epoch 176/1000\n",
      "5/5 - 1s - loss: 0.2741 - val_loss: 0.2785 - 1s/epoch - 215ms/step\n",
      "Epoch 177/1000\n",
      "5/5 - 1s - loss: 0.2741 - val_loss: 0.2787 - 1s/epoch - 220ms/step\n",
      "Epoch 178/1000\n",
      "5/5 - 1s - loss: 0.2741 - val_loss: 0.2783 - 1s/epoch - 282ms/step\n",
      "Epoch 179/1000\n",
      "5/5 - 1s - loss: 0.2742 - val_loss: 0.2788 - 1s/epoch - 225ms/step\n",
      "Epoch 180/1000\n",
      "5/5 - 1s - loss: 0.2741 - val_loss: 0.2784 - 1s/epoch - 224ms/step\n",
      "Epoch 181/1000\n",
      "5/5 - 1s - loss: 0.2743 - val_loss: 0.2785 - 1s/epoch - 219ms/step\n",
      "Epoch 182/1000\n",
      "5/5 - 1s - loss: 0.2739 - val_loss: 0.2782 - 1s/epoch - 226ms/step\n",
      "Epoch 183/1000\n",
      "5/5 - 1s - loss: 0.2740 - val_loss: 0.2788 - 1s/epoch - 225ms/step\n",
      "Epoch 184/1000\n",
      "5/5 - 1s - loss: 0.2741 - val_loss: 0.2782 - 1s/epoch - 219ms/step\n",
      "Epoch 185/1000\n",
      "5/5 - 1s - loss: 0.2739 - val_loss: 0.2786 - 1s/epoch - 220ms/step\n",
      "Epoch 186/1000\n",
      "5/5 - 1s - loss: 0.2739 - val_loss: 0.2783 - 1s/epoch - 218ms/step\n",
      "Epoch 187/1000\n",
      "5/5 - 1s - loss: 0.2739 - val_loss: 0.2782 - 1s/epoch - 222ms/step\n",
      "Epoch 188/1000\n",
      "5/5 - 1s - loss: 0.2738 - val_loss: 0.2783 - 1s/epoch - 223ms/step\n",
      "Epoch 189/1000\n",
      "5/5 - 1s - loss: 0.2739 - val_loss: 0.2781 - 1s/epoch - 213ms/step\n",
      "Epoch 190/1000\n",
      "5/5 - 1s - loss: 0.2737 - val_loss: 0.2782 - 1s/epoch - 222ms/step\n",
      "Epoch 191/1000\n",
      "5/5 - 1s - loss: 0.2742 - val_loss: 0.2785 - 1s/epoch - 221ms/step\n",
      "Epoch 192/1000\n",
      "5/5 - 1s - loss: 0.2739 - val_loss: 0.2780 - 1s/epoch - 221ms/step\n",
      "Epoch 193/1000\n",
      "5/5 - 1s - loss: 0.2738 - val_loss: 0.2778 - 1s/epoch - 220ms/step\n",
      "Epoch 194/1000\n",
      "5/5 - 1s - loss: 0.2737 - val_loss: 0.2780 - 1s/epoch - 217ms/step\n",
      "Epoch 195/1000\n",
      "5/5 - 1s - loss: 0.2738 - val_loss: 0.2783 - 1s/epoch - 217ms/step\n",
      "Epoch 196/1000\n",
      "5/5 - 1s - loss: 0.2737 - val_loss: 0.2779 - 1s/epoch - 221ms/step\n",
      "Epoch 197/1000\n",
      "5/5 - 1s - loss: 0.2737 - val_loss: 0.2785 - 1s/epoch - 221ms/step\n",
      "Epoch 198/1000\n",
      "5/5 - 1s - loss: 0.2735 - val_loss: 0.2778 - 1s/epoch - 222ms/step\n",
      "Epoch 199/1000\n",
      "5/5 - 1s - loss: 0.2735 - val_loss: 0.2779 - 1s/epoch - 219ms/step\n",
      "Epoch 200/1000\n",
      "5/5 - 1s - loss: 0.2735 - val_loss: 0.2778 - 1s/epoch - 228ms/step\n",
      "Epoch 201/1000\n",
      "5/5 - 1s - loss: 0.2736 - val_loss: 0.2777 - 1s/epoch - 217ms/step\n",
      "Epoch 202/1000\n",
      "5/5 - 1s - loss: 0.2734 - val_loss: 0.2777 - 1s/epoch - 228ms/step\n",
      "Epoch 203/1000\n",
      "5/5 - 1s - loss: 0.2734 - val_loss: 0.2779 - 1s/epoch - 215ms/step\n",
      "Epoch 204/1000\n",
      "5/5 - 1s - loss: 0.2734 - val_loss: 0.2776 - 1s/epoch - 259ms/step\n",
      "Epoch 205/1000\n",
      "5/5 - 1s - loss: 0.2735 - val_loss: 0.2778 - 1s/epoch - 290ms/step\n",
      "Epoch 206/1000\n",
      "5/5 - 1s - loss: 0.2734 - val_loss: 0.2778 - 1s/epoch - 276ms/step\n",
      "Epoch 207/1000\n",
      "5/5 - 1s - loss: 0.2740 - val_loss: 0.2783 - 1s/epoch - 225ms/step\n",
      "Epoch 208/1000\n",
      "5/5 - 1s - loss: 0.2736 - val_loss: 0.2775 - 1s/epoch - 222ms/step\n",
      "Epoch 209/1000\n",
      "5/5 - 1s - loss: 0.2733 - val_loss: 0.2777 - 1s/epoch - 217ms/step\n",
      "Epoch 210/1000\n",
      "5/5 - 1s - loss: 0.2733 - val_loss: 0.2780 - 1s/epoch - 216ms/step\n",
      "Epoch 211/1000\n",
      "5/5 - 1s - loss: 0.2737 - val_loss: 0.2776 - 1s/epoch - 217ms/step\n",
      "Epoch 212/1000\n",
      "5/5 - 1s - loss: 0.2736 - val_loss: 0.2775 - 1s/epoch - 215ms/step\n",
      "Epoch 213/1000\n",
      "5/5 - 1s - loss: 0.2731 - val_loss: 0.2773 - 1s/epoch - 227ms/step\n",
      "Epoch 214/1000\n",
      "5/5 - 1s - loss: 0.2731 - val_loss: 0.2782 - 1s/epoch - 219ms/step\n",
      "Epoch 215/1000\n",
      "5/5 - 1s - loss: 0.2734 - val_loss: 0.2775 - 1s/epoch - 210ms/step\n",
      "Epoch 216/1000\n",
      "5/5 - 1s - loss: 0.2732 - val_loss: 0.2773 - 1s/epoch - 217ms/step\n",
      "Epoch 217/1000\n",
      "5/5 - 1s - loss: 0.2733 - val_loss: 0.2777 - 1s/epoch - 210ms/step\n",
      "Epoch 218/1000\n",
      "5/5 - 1s - loss: 0.2731 - val_loss: 0.2774 - 1s/epoch - 221ms/step\n",
      "Epoch 219/1000\n",
      "5/5 - 1s - loss: 0.2730 - val_loss: 0.2773 - 1s/epoch - 218ms/step\n",
      "Epoch 220/1000\n",
      "5/5 - 1s - loss: 0.2730 - val_loss: 0.2774 - 1s/epoch - 216ms/step\n",
      "Epoch 221/1000\n",
      "5/5 - 1s - loss: 0.2730 - val_loss: 0.2774 - 1s/epoch - 221ms/step\n"
     ]
    }
   ],
   "source": [
    "cbs =  callbacks.EarlyStopping(monitor =\"val_loss\",  mode =\"min\", \n",
    "                        patience = 5, restore_best_weights = True) \n",
    "history = model.fit([Xlearn, learn['VehBrandX'], learn['RegionX'],\n",
    "          Vlearn], (np.array(learn['ClaimNb'])).reshape(-1), \n",
    "             epochs=1000,batch_size= 100000, verbose = 2\n",
    "            , validation_split=0.2,callbacks=cbs)"
   ]
  },
  {
   "cell_type": "code",
   "execution_count": 19,
   "metadata": {},
   "outputs": [
    {
     "name": "stdout",
     "output_type": "stream",
     "text": [
      "19070/19070 [==============================] - 363s 19ms/step - loss: 0.2739\n",
      "2119/2119 [==============================] - 40s 19ms/step - loss: 0.2711\n"
     ]
    },
    {
     "data": {
      "text/plain": [
       "(0.2738856077194214, 0.27105283737182617)"
      ]
     },
     "execution_count": 19,
     "metadata": {},
     "output_type": "execute_result"
    }
   ],
   "source": [
    "model.evaluate([Xlearn, learn['VehBrandX'], learn['RegionX'],\n",
    "                 Vlearn], (np.array(learn['ClaimNb'])).reshape(-1)) , \n",
    "\n",
    "model.evaluate([Xtest, test['VehBrandX'], test['RegionX'],\n",
    "                 Vtest], (np.array(test['ClaimNb'])).reshape(-1))"
   ]
  },
  {
   "cell_type": "code",
   "execution_count": 20,
   "metadata": {},
   "outputs": [
    {
     "name": "stdout",
     "output_type": "stream",
     "text": [
      "   21/21188 [..............................] - ETA: 1:52 "
     ]
    },
    {
     "name": "stderr",
     "output_type": "stream",
     "text": [
      "2023-09-10 22:03:55.679352: I tensorflow/core/grappler/optimizers/custom_graph_optimizer_registry.cc:113] Plugin optimizer for device_type GPU is enabled.\n"
     ]
    },
    {
     "name": "stdout",
     "output_type": "stream",
     "text": [
      "21188/21188 [==============================] - 89s 4ms/step\n"
     ]
    }
   ],
   "source": [
    "y_pred_data = (model.predict([Xdata , data['VehBrandX']\n",
    "            , data['RegionX'], np.log(data['bellGLM'])]))"
   ]
  },
  {
   "cell_type": "code",
   "execution_count": 21,
   "metadata": {},
   "outputs": [
    {
     "data": {
      "text/plain": [
       "<tf.Tensor: shape=(), dtype=float64, numpy=0.27360195990960207>"
      ]
     },
     "execution_count": 21,
     "metadata": {},
     "output_type": "execute_result"
    }
   ],
   "source": [
    "Bell_Deviance(data['ClaimNb'], y_pred_data)"
   ]
  },
  {
   "cell_type": "code",
   "execution_count": 22,
   "metadata": {},
   "outputs": [
    {
     "data": {
      "text/plain": [
       "0.055199446975010516"
      ]
     },
     "execution_count": 22,
     "metadata": {},
     "output_type": "execute_result"
    }
   ],
   "source": [
    "np.mean(y_pred_data)"
   ]
  },
  {
   "cell_type": "code",
   "execution_count": 23,
   "metadata": {},
   "outputs": [
    {
     "data": {
      "image/png": "[encoded data removed]",
      "text/plain": [
       "<Figure size 640x480 with 1 Axes>"
      ]
     },
     "metadata": {},
     "output_type": "display_data"
    }
   ],
   "source": [
    "import matplotlib.pyplot as plt\n",
    "\n",
    "train_loss = history.history['loss']\n",
    "val_loss = history.history['val_loss']\n",
    "\n",
    "epochs = range(1, len(train_loss) + 1)\n",
    "\n",
    "plt.plot(epochs, train_loss, label='Training Loss')\n",
    "plt.plot(epochs, val_loss, label='Validation Loss')\n",
    "\n",
    "plt.title('Training and Validation Loss')\n",
    "plt.xlabel('Epochs')\n",
    "plt.ylabel('Loss')\n",
    "\n",
    "plt.legend(loc='best')\n",
    "plt.show()\n"
   ]
  }
 ],
 "metadata": {
  "kernelspec": {
   "display_name": "ml_ai (ipykernel)",
   "language": "python",
   "name": "python3"
  },
  "language_info": {
   "codemirror_mode": {
    "name": "ipython",
    "version": 3
   },
   "file_extension": ".py",
   "mimetype": "text/x-python",
   "name": "python",
   "nbconvert_exporter": "python",
   "pygments_lexer": "ipython3",
   "version": "3.8.13"
  }
 },
 "nbformat": 4,
 "nbformat_minor": 4
}
